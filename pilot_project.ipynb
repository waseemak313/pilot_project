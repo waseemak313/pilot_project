{
 "cells": [
  {
   "cell_type": "code",
   "execution_count": 4,
   "id": "09a9f213-cc67-4d7a-8379-fda839a90ef2",
   "metadata": {},
   "outputs": [],
   "source": [
    "import pandas as pd"
   ]
  },
  {
   "cell_type": "code",
   "execution_count": null,
   "id": "8c31e72b-1502-4d87-a137-9ef543cb04ff",
   "metadata": {},
   "outputs": [],
   "source": [
    "pip install pandas matplotlib seaborn"
   ]
  },
  {
   "cell_type": "code",
   "execution_count": 3,
   "id": "bc8e7bc7-9dc0-4d5d-b0f6-4f6feb0e371e",
   "metadata": {},
   "outputs": [],
   "source": [
    "import matplotlib.pyplot as plt"
   ]
  },
  {
   "cell_type": "code",
   "execution_count": 5,
   "id": "0d8074b2-181f-4d56-96e1-67e1a08cd34a",
   "metadata": {},
   "outputs": [],
   "source": [
    "import seaborn as sns"
   ]
  },
  {
   "cell_type": "code",
   "execution_count": 9,
   "id": "dfaec160-e043-4921-9fa3-a880dfd2c256",
   "metadata": {},
   "outputs": [
    {
     "ename": "AttributeError",
     "evalue": "module 'pandas' has no attribute '_version_'",
     "output_type": "error",
     "traceback": [
      "\u001b[0;31m---------------------------------------------------------------------------\u001b[0m",
      "\u001b[0;31mAttributeError\u001b[0m                            Traceback (most recent call last)",
      "Cell \u001b[0;32mIn[9], line 1\u001b[0m\n\u001b[0;32m----> 1\u001b[0m \u001b[38;5;28mprint\u001b[39m (\u001b[38;5;124m\"\u001b[39m\u001b[38;5;124mPandas version:\u001b[39m\u001b[38;5;124m\"\u001b[39m, pd\u001b[38;5;241m.\u001b[39m_version_)\n",
      "\u001b[0;31mAttributeError\u001b[0m: module 'pandas' has no attribute '_version_'"
     ]
    }
   ],
   "source": [
    "print (\"Pandas version:\", pd._version_)"
   ]
  },
  {
   "cell_type": "code",
   "execution_count": 11,
   "id": "a208aed4-9d9b-4520-a4cf-d03c6b525613",
   "metadata": {},
   "outputs": [
    {
     "name": "stdout",
     "output_type": "stream",
     "text": [
      "Pandas version: 2.2.2\n"
     ]
    }
   ],
   "source": [
    "print(\"Pandas version:\", pd.__version__)"
   ]
  },
  {
   "cell_type": "code",
   "execution_count": 10,
   "id": "1376b1e7-5189-4311-a823-0efe87e475b2",
   "metadata": {},
   "outputs": [
    {
     "ename": "TypeError",
     "evalue": "read_csv() got an unexpected keyword argument 'errors'",
     "output_type": "error",
     "traceback": [
      "\u001b[0;31m---------------------------------------------------------------------------\u001b[0m",
      "\u001b[0;31mTypeError\u001b[0m                                 Traceback (most recent call last)",
      "Cell \u001b[0;32mIn[10], line 7\u001b[0m\n\u001b[1;32m      1\u001b[0m \u001b[38;5;66;03m#dataframe = pd.read_csv('Mobiles_Dataset_2025.csv')\u001b[39;00m\n\u001b[1;32m      2\u001b[0m \n\u001b[1;32m      3\u001b[0m \n\u001b[1;32m      4\u001b[0m \n\u001b[1;32m      5\u001b[0m \u001b[38;5;66;03m#df = pd.read_csv('Mobiles_Dataset_2025.csv', encoding='utf-8')  # or encoding='cp1252'\u001b[39;00m\n\u001b[1;32m      6\u001b[0m \u001b[38;5;66;03m# Skip invalid characters\u001b[39;00m\n\u001b[0;32m----> 7\u001b[0m df \u001b[38;5;241m=\u001b[39m pd\u001b[38;5;241m.\u001b[39mread_csv(\u001b[38;5;124m'\u001b[39m\u001b[38;5;124mMobiles_Dataset_2025.csv\u001b[39m\u001b[38;5;124m'\u001b[39m, encoding\u001b[38;5;241m=\u001b[39m\u001b[38;5;124m'\u001b[39m\u001b[38;5;124mutf-8\u001b[39m\u001b[38;5;124m'\u001b[39m, errors\u001b[38;5;241m=\u001b[39m\u001b[38;5;124m'\u001b[39m\u001b[38;5;124mignore\u001b[39m\u001b[38;5;124m'\u001b[39m)\n",
      "\u001b[0;31mTypeError\u001b[0m: read_csv() got an unexpected keyword argument 'errors'"
     ]
    }
   ],
   "source": [
    "#dataframe = pd.read_csv('Mobiles_Dataset_2025.csv')\n",
    "\n",
    "\n",
    "\n",
    "#df = pd.read_csv('Mobiles_Dataset_2025.csv', encoding='utf-8')  # or encoding='cp1252'\n",
    "# Skip invalid characters\n",
    "df = pd.read_csv('Mobiles_Dataset_2025.csv', encoding='utf-8', errors='ignore')\n",
    "\n"
   ]
  },
  {
   "cell_type": "code",
   "execution_count": 12,
   "id": "59ed1edf-c68a-467f-9c98-dde21de60653",
   "metadata": {},
   "outputs": [
    {
     "name": "stdout",
     "output_type": "stream",
     "text": [
      "2.2.2\n"
     ]
    }
   ],
   "source": [
    "import pandas as pd\n",
    "print(pd.__version__)"
   ]
  },
  {
   "cell_type": "code",
   "execution_count": 14,
   "id": "1f7366ae-2102-4430-8539-957a4c50802b",
   "metadata": {},
   "outputs": [
    {
     "ename": "TypeError",
     "evalue": "read_csv() got an unexpected keyword argument 'errors'",
     "output_type": "error",
     "traceback": [
      "\u001b[0;31m---------------------------------------------------------------------------\u001b[0m",
      "\u001b[0;31mTypeError\u001b[0m                                 Traceback (most recent call last)",
      "Cell \u001b[0;32mIn[14], line 3\u001b[0m\n\u001b[1;32m      1\u001b[0m \u001b[38;5;28;01mimport\u001b[39;00m \u001b[38;5;21;01mpandas\u001b[39;00m \u001b[38;5;28;01mas\u001b[39;00m \u001b[38;5;21;01mpd\u001b[39;00m\n\u001b[0;32m----> 3\u001b[0m df \u001b[38;5;241m=\u001b[39m pd\u001b[38;5;241m.\u001b[39mread_csv(\u001b[38;5;124m'\u001b[39m\u001b[38;5;124mMobiles_Dataset_2025.csv\u001b[39m\u001b[38;5;124m'\u001b[39m, encoding\u001b[38;5;241m=\u001b[39m\u001b[38;5;124m'\u001b[39m\u001b[38;5;124mutf-8\u001b[39m\u001b[38;5;124m'\u001b[39m, errors\u001b[38;5;241m=\u001b[39m\u001b[38;5;124m'\u001b[39m\u001b[38;5;124mignore\u001b[39m\u001b[38;5;124m'\u001b[39m)\n",
      "\u001b[0;31mTypeError\u001b[0m: read_csv() got an unexpected keyword argument 'errors'"
     ]
    }
   ],
   "source": [
    "import pandas as pd\n",
    "\n",
    "df = pd.read_csv('Mobiles_Dataset_2025.csv', encoding='utf-8', errors='ignore')\n"
   ]
  },
  {
   "cell_type": "code",
   "execution_count": 18,
   "id": "9fcaf935-5301-4541-a45d-fbee217cf4a7",
   "metadata": {},
   "outputs": [],
   "source": [
    "df = pd.read_csv(\"Mobiles_Dataset_2025.csv\", encoding='latin1')"
   ]
  },
  {
   "cell_type": "code",
   "execution_count": 22,
   "id": "cf2c9b7c-9267-41e3-b586-eeb4c418dde0",
   "metadata": {},
   "outputs": [
    {
     "data": {
      "text/html": [
       "<div>\n",
       "<style scoped>\n",
       "    .dataframe tbody tr th:only-of-type {\n",
       "        vertical-align: middle;\n",
       "    }\n",
       "\n",
       "    .dataframe tbody tr th {\n",
       "        vertical-align: top;\n",
       "    }\n",
       "\n",
       "    .dataframe thead th {\n",
       "        text-align: right;\n",
       "    }\n",
       "</style>\n",
       "<table border=\"1\" class=\"dataframe\">\n",
       "  <thead>\n",
       "    <tr style=\"text-align: right;\">\n",
       "      <th></th>\n",
       "      <th>Company Name</th>\n",
       "      <th>Model Name</th>\n",
       "      <th>Mobile Weight</th>\n",
       "      <th>RAM</th>\n",
       "      <th>Front Camera</th>\n",
       "      <th>Back Camera</th>\n",
       "      <th>Processor</th>\n",
       "      <th>Battery Capacity</th>\n",
       "      <th>Screen Size</th>\n",
       "      <th>Launched Price (Pakistan)</th>\n",
       "      <th>Launched Price (India)</th>\n",
       "      <th>Launched Price (China)</th>\n",
       "      <th>Launched Price (USA)</th>\n",
       "      <th>Launched Price (Dubai)</th>\n",
       "      <th>Launched Year</th>\n",
       "    </tr>\n",
       "  </thead>\n",
       "  <tbody>\n",
       "    <tr>\n",
       "      <th>0</th>\n",
       "      <td>Apple</td>\n",
       "      <td>iPhone 16 128GB</td>\n",
       "      <td>174g</td>\n",
       "      <td>6GB</td>\n",
       "      <td>12MP</td>\n",
       "      <td>48MP</td>\n",
       "      <td>A17 Bionic</td>\n",
       "      <td>3,600mAh</td>\n",
       "      <td>6.1 inches</td>\n",
       "      <td>PKR 224,999</td>\n",
       "      <td>INR 79,999</td>\n",
       "      <td>CNY 5,799</td>\n",
       "      <td>USD 799</td>\n",
       "      <td>AED 2,799</td>\n",
       "      <td>2024</td>\n",
       "    </tr>\n",
       "    <tr>\n",
       "      <th>1</th>\n",
       "      <td>Apple</td>\n",
       "      <td>iPhone 16 256GB</td>\n",
       "      <td>174g</td>\n",
       "      <td>6GB</td>\n",
       "      <td>12MP</td>\n",
       "      <td>48MP</td>\n",
       "      <td>A17 Bionic</td>\n",
       "      <td>3,600mAh</td>\n",
       "      <td>6.1 inches</td>\n",
       "      <td>PKR 234,999</td>\n",
       "      <td>INR 84,999</td>\n",
       "      <td>CNY 6,099</td>\n",
       "      <td>USD 849</td>\n",
       "      <td>AED 2,999</td>\n",
       "      <td>2024</td>\n",
       "    </tr>\n",
       "    <tr>\n",
       "      <th>2</th>\n",
       "      <td>Apple</td>\n",
       "      <td>iPhone 16 512GB</td>\n",
       "      <td>174g</td>\n",
       "      <td>6GB</td>\n",
       "      <td>12MP</td>\n",
       "      <td>48MP</td>\n",
       "      <td>A17 Bionic</td>\n",
       "      <td>3,600mAh</td>\n",
       "      <td>6.1 inches</td>\n",
       "      <td>PKR 244,999</td>\n",
       "      <td>INR 89,999</td>\n",
       "      <td>CNY 6,499</td>\n",
       "      <td>USD 899</td>\n",
       "      <td>AED 3,199</td>\n",
       "      <td>2024</td>\n",
       "    </tr>\n",
       "    <tr>\n",
       "      <th>3</th>\n",
       "      <td>Apple</td>\n",
       "      <td>iPhone 16 Plus 128GB</td>\n",
       "      <td>203g</td>\n",
       "      <td>6GB</td>\n",
       "      <td>12MP</td>\n",
       "      <td>48MP</td>\n",
       "      <td>A17 Bionic</td>\n",
       "      <td>4,200mAh</td>\n",
       "      <td>6.7 inches</td>\n",
       "      <td>PKR 249,999</td>\n",
       "      <td>INR 89,999</td>\n",
       "      <td>CNY 6,199</td>\n",
       "      <td>USD 899</td>\n",
       "      <td>AED 3,199</td>\n",
       "      <td>2024</td>\n",
       "    </tr>\n",
       "    <tr>\n",
       "      <th>4</th>\n",
       "      <td>Apple</td>\n",
       "      <td>iPhone 16 Plus 256GB</td>\n",
       "      <td>203g</td>\n",
       "      <td>6GB</td>\n",
       "      <td>12MP</td>\n",
       "      <td>48MP</td>\n",
       "      <td>A17 Bionic</td>\n",
       "      <td>4,200mAh</td>\n",
       "      <td>6.7 inches</td>\n",
       "      <td>PKR 259,999</td>\n",
       "      <td>INR 94,999</td>\n",
       "      <td>CNY 6,499</td>\n",
       "      <td>USD 949</td>\n",
       "      <td>AED 3,399</td>\n",
       "      <td>2024</td>\n",
       "    </tr>\n",
       "  </tbody>\n",
       "</table>\n",
       "</div>"
      ],
      "text/plain": [
       "  Company Name            Model Name Mobile Weight  RAM Front Camera  \\\n",
       "0        Apple       iPhone 16 128GB          174g  6GB         12MP   \n",
       "1        Apple       iPhone 16 256GB          174g  6GB         12MP   \n",
       "2        Apple       iPhone 16 512GB          174g  6GB         12MP   \n",
       "3        Apple  iPhone 16 Plus 128GB          203g  6GB         12MP   \n",
       "4        Apple  iPhone 16 Plus 256GB          203g  6GB         12MP   \n",
       "\n",
       "  Back Camera   Processor Battery Capacity Screen Size  \\\n",
       "0        48MP  A17 Bionic         3,600mAh  6.1 inches   \n",
       "1        48MP  A17 Bionic         3,600mAh  6.1 inches   \n",
       "2        48MP  A17 Bionic         3,600mAh  6.1 inches   \n",
       "3        48MP  A17 Bionic         4,200mAh  6.7 inches   \n",
       "4        48MP  A17 Bionic         4,200mAh  6.7 inches   \n",
       "\n",
       "  Launched Price (Pakistan) Launched Price (India) Launched Price (China)  \\\n",
       "0               PKR 224,999             INR 79,999              CNY 5,799   \n",
       "1               PKR 234,999             INR 84,999              CNY 6,099   \n",
       "2               PKR 244,999             INR 89,999              CNY 6,499   \n",
       "3               PKR 249,999             INR 89,999              CNY 6,199   \n",
       "4               PKR 259,999             INR 94,999              CNY 6,499   \n",
       "\n",
       "  Launched Price (USA) Launched Price (Dubai)  Launched Year  \n",
       "0              USD 799              AED 2,799           2024  \n",
       "1              USD 849              AED 2,999           2024  \n",
       "2              USD 899              AED 3,199           2024  \n",
       "3              USD 899              AED 3,199           2024  \n",
       "4              USD 949              AED 3,399           2024  "
      ]
     },
     "execution_count": 22,
     "metadata": {},
     "output_type": "execute_result"
    }
   ],
   "source": [
    "df.head()"
   ]
  },
  {
   "cell_type": "code",
   "execution_count": null,
   "id": "53c75ba2-f742-4cc0-a418-7225fc1c3a5f",
   "metadata": {},
   "outputs": [],
   "source": []
  }
 ],
 "metadata": {
  "kernelspec": {
   "display_name": "Python [conda env:base] *",
   "language": "python",
   "name": "conda-base-py"
  },
  "language_info": {
   "codemirror_mode": {
    "name": "ipython",
    "version": 3
   },
   "file_extension": ".py",
   "mimetype": "text/x-python",
   "name": "python",
   "nbconvert_exporter": "python",
   "pygments_lexer": "ipython3",
   "version": "3.12.7"
  }
 },
 "nbformat": 4,
 "nbformat_minor": 5
}
